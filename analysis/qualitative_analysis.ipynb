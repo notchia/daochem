{
 "cells": [
  {
   "cell_type": "code",
   "execution_count": 1,
   "metadata": {},
   "outputs": [],
   "source": [
    "import os\n",
    "import requests\n",
    "import pandas as pd\n",
    "import seaborn as sns\n",
    "import matplotlib.pyplot as plt"
   ]
  },
  {
   "cell_type": "code",
   "execution_count": 2,
   "metadata": {},
   "outputs": [
    {
     "ename": "FileNotFoundError",
     "evalue": "[Errno 2] No such file or directory: 'archivenode_api_key.txt'",
     "output_type": "error",
     "traceback": [
      "\u001b[1;31m---------------------------------------------------------------------------\u001b[0m",
      "\u001b[1;31mFileNotFoundError\u001b[0m                         Traceback (most recent call last)",
      "Input \u001b[1;32mIn [2]\u001b[0m, in \u001b[0;36m<module>\u001b[1;34m\u001b[0m\n\u001b[1;32m----> 1\u001b[0m \u001b[39mfrom\u001b[39;00m \u001b[39mmodules\u001b[39;00m\u001b[39m.\u001b[39;00m\u001b[39mconfig\u001b[39;00m \u001b[39mimport\u001b[39;00m TMPDIR, DATADIR\n\u001b[0;32m      2\u001b[0m \u001b[39mfrom\u001b[39;00m \u001b[39mmodules\u001b[39;00m\u001b[39m.\u001b[39;00m\u001b[39mutils\u001b[39;00m \u001b[39mimport\u001b[39;00m load_db, normalize_name, print_groupby\n",
      "File \u001b[1;32mc:\\Users\\lucia\\Documents\\Metagov\\Repositories\\ethdenver-buidl\\code\\modules\\config.py:13\u001b[0m, in \u001b[0;36m<module>\u001b[1;34m\u001b[0m\n\u001b[0;32m     <a href='file:///c%3A/Users/lucia/Documents/Metagov/Repositories/ethdenver-buidl/code/modules/config.py?line=9'>10</a>\u001b[0m sys\u001b[39m.\u001b[39mpath\u001b[39m.\u001b[39mappend(\u001b[39m'\u001b[39m\u001b[39mcode/modules\u001b[39m\u001b[39m'\u001b[39m)\n\u001b[0;32m     <a href='file:///c%3A/Users/lucia/Documents/Metagov/Repositories/ethdenver-buidl/code/modules/config.py?line=11'>12</a>\u001b[0m \u001b[39m# Archive node API key\u001b[39;00m\n\u001b[1;32m---> <a href='file:///c%3A/Users/lucia/Documents/Metagov/Repositories/ethdenver-buidl/code/modules/config.py?line=12'>13</a>\u001b[0m \u001b[39mwith\u001b[39;00m \u001b[39mopen\u001b[39;49m(\u001b[39m\"\u001b[39;49m\u001b[39marchivenode_api_key.txt\u001b[39;49m\u001b[39m\"\u001b[39;49m, \u001b[39m'\u001b[39;49m\u001b[39mr\u001b[39;49m\u001b[39m'\u001b[39;49m) \u001b[39mas\u001b[39;00m f:\n\u001b[0;32m     <a href='file:///c%3A/Users/lucia/Documents/Metagov/Repositories/ethdenver-buidl/code/modules/config.py?line=13'>14</a>\u001b[0m     API_KEY \u001b[39m=\u001b[39m f\u001b[39m.\u001b[39mread()\n",
      "\u001b[1;31mFileNotFoundError\u001b[0m: [Errno 2] No such file or directory: 'archivenode_api_key.txt'"
     ]
    }
   ],
   "source": [
    "from modules.config import TMPDIR, DATADIR\n",
    "from modules.utils import load_db, normalize_name, print_groupby"
   ]
  },
  {
   "cell_type": "code",
   "execution_count": null,
   "metadata": {},
   "outputs": [],
   "source": [
    "db = load_db()\n",
    "len(db.index)"
   ]
  },
  {
   "cell_type": "code",
   "execution_count": null,
   "metadata": {},
   "outputs": [],
   "source": [
    "db.framework.value_counts()"
   ]
  },
  {
   "cell_type": "code",
   "execution_count": null,
   "metadata": {},
   "outputs": [],
   "source": [
    "db.category.value_counts()"
   ]
  },
  {
   "cell_type": "code",
   "execution_count": null,
   "metadata": {},
   "outputs": [],
   "source": [
    "# Load survey data\n",
    "columns = ['sentiment_score','decisionmaking_agency','decisionmaking_trust','mission_accomplished','want_need','fulfillment']\n",
    "questions = ['do you feel a sense of agency in the decision-making process?',\n",
    "             'do you trust the decision-making process?',\n",
    "             'does the DAO effectively accomplish its mission?',\n",
    "             'do you feel wanted and/or needed by the DAO?',\n",
    "             'does contributing to this DAO bring you a sense of fulfillment?']\n",
    "df = pd.read_csv(os.path.join(TMPDIR, 'survey_responses.csv'))[['DAO', *columns]]\n",
    "len(df.index)\n",
    "\n",
    "\n"
   ]
  },
  {
   "cell_type": "code",
   "execution_count": null,
   "metadata": {},
   "outputs": [],
   "source": [
    "# Clean, group and display aggregate results for DAOs i \n",
    "df['daoName'] = df['DAO'].apply(normalize_name)\n",
    "df['daoName'].unique()"
   ]
  },
  {
   "cell_type": "code",
   "execution_count": null,
   "metadata": {},
   "outputs": [],
   "source": [
    "gb = df.groupby('daoName').agg({'daoName': ['count'],\n",
    "                                  **{c: ['mean', 'median'] for c in columns}})\n",
    "gb[gb['daoName']['count'] >= 5]"
   ]
  },
  {
   "cell_type": "code",
   "execution_count": null,
   "metadata": {},
   "outputs": [],
   "source": [
    "# Compare with other data sources\n",
    "df_gb = pd.DataFrame(gb)\n",
    "df_gb.rename({'daoName': 'all'}, axis=1, inplace=True)\n",
    "df_all = pd.merge(db, df_gb, on='daoName', how='right')\n",
    "survey_columns = df_all.columns[7::2]"
   ]
  },
  {
   "cell_type": "code",
   "execution_count": null,
   "metadata": {},
   "outputs": [],
   "source": [
    "gb_framework = df_all.groupby('framework').agg({'daoName': ['count'],\n",
    "                                  **{c: ['mean', 'std'] for c in survey_columns}})\n",
    "gb_framework = gb_framework[gb_framework['daoName']['count'] > 1]\n",
    "gb_framework"
   ]
  },
  {
   "cell_type": "code",
   "execution_count": null,
   "metadata": {},
   "outputs": [],
   "source": [
    "for c in gb_framework.columns[1::2]:\n",
    "    df = gb_framework[c]\n",
    "    plt.figure(figsize=(16, 6))\n",
    "    sns.barplot(x=gb_framework.index, y=c, data=gb_framework, ci=None)\n",
    "    plt.xlabel('Framework', fontsize=18)\n",
    "    plt.savefig(os.path.join(TMPDIR, f\"survey_vs_framework_{c}.svg\"), dpi=300)\n",
    "    plt.savefig(os.path.join(TMPDIR, f\"survey_vs_framework_{c}.png\"), dpi=300)"
   ]
  },
  {
   "cell_type": "code",
   "execution_count": null,
   "metadata": {},
   "outputs": [],
   "source": [
    "gb_category = df_all.groupby('category').agg({'daoName': ['count'],\n",
    "                                  **{c: ['mean'] for c in survey_columns}})\n",
    "gb_category = gb_category[gb_category['daoName']['count'] > 1]\n",
    "gb_category"
   ]
  },
  {
   "cell_type": "code",
   "execution_count": null,
   "metadata": {},
   "outputs": [],
   "source": [
    "for c in gb_category.columns[1::2]:\n",
    "    df = gb_category[c]\n",
    "    plt.figure(figsize=(16, 6))\n",
    "    sns.barplot(x=gb_category.index, y=c, data=gb_category, ci=None)\n",
    "    plt.xlabel('Category', fontsize=18)\n",
    "    plt.savefig(os.path.join(TMPDIR, \"survey_vs_category.svg\"), dpi=300)\n",
    "    plt.savefig(os.path.join(TMPDIR, \"survey_vs_category.png\"), dpi=300)"
   ]
  }
 ],
 "metadata": {
  "interpreter": {
   "hash": "779319e8d0c9cb286fc27f8b881cb3134a75a38bfb5645a8c7e51f4bba0a5a60"
  },
  "kernelspec": {
   "display_name": "Python 3.9.7 ('buidl')",
   "language": "python",
   "name": "python3"
  },
  "language_info": {
   "codemirror_mode": {
    "name": "ipython",
    "version": 3
   },
   "file_extension": ".py",
   "mimetype": "text/x-python",
   "name": "python",
   "nbconvert_exporter": "python",
   "pygments_lexer": "ipython3",
   "version": "3.9.7"
  },
  "orig_nbformat": 4
 },
 "nbformat": 4,
 "nbformat_minor": 2
}
