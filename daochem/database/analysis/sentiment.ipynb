{
 "cells": [
  {
   "cell_type": "code",
   "execution_count": 1,
   "metadata": {},
   "outputs": [],
   "source": [
    "import os\n",
    "import requests\n",
    "import pandas as pd\n",
    "import seaborn as sns\n",
    "import matplotlib.pyplot as plt"
   ]
  },
  {
   "cell_type": "code",
   "execution_count": 2,
   "metadata": {},
   "outputs": [],
   "source": [
    "from daochem.database.analysis.base import RESULTS_DIR\n",
    "FIG_KWARGS = {'dpi': 300, 'bbox_inches':'tight'}"
   ]
  },
  {
   "cell_type": "code",
   "execution_count": 3,
   "metadata": {},
   "outputs": [],
   "source": [
    "COLOR_PALLETTE = sns.color_palette(\"Spectral\", 6)[::-1]"
   ]
  },
  {
   "cell_type": "code",
   "execution_count": 4,
   "metadata": {},
   "outputs": [
    {
     "data": {
      "text/plain": [
       "190"
      ]
     },
     "execution_count": 4,
     "metadata": {},
     "output_type": "execute_result"
    }
   ],
   "source": [
    "# Load survey data\n",
    "topics = ['decisionmaking agency','decisionmaking trust','mission accomplished','wanted/needed','fulfillment']\n",
    "columns=['q1','q2','q3','q4','q5']\n",
    "questions = ['do you feel a sense of agency in the decision-making process?',\n",
    "             'do you trust the decision-making process?',\n",
    "             'does the DAO effectively accomplish its mission?',\n",
    "             'do you feel wanted and/or needed by the DAO?',\n",
    "             'does contributing to this DAO bring you a sense of fulfillment?']\n",
    "LOCAL_CSV = os.path.join('tmp', 'sentiment.csv')\n",
    "df = pd.read_csv(LOCAL_CSV, index_col=0)\n",
    "df.rename(columns={'dao_name_clean': 'daoName'}, inplace=True)\n",
    "len(df.index)"
   ]
  },
  {
   "cell_type": "code",
   "execution_count": 5,
   "metadata": {},
   "outputs": [
    {
     "data": {
      "image/png": "[encoded data removed]",
      "text/plain": [
       "<Figure size 432x288 with 1 Axes>"
      ]
     },
     "metadata": {
      "needs_background": "light"
     },
     "output_type": "display_data"
    }
   ],
   "source": [
    "# Plot sentiment distribution\n",
    "axis = sns.histplot(data=df['sentiment'], color='#008383', bins=20, element='step')\n",
    "plt.xlabel('Sentiment')\n",
    "\n",
    "plt.savefig(os.path.join(RESULTS_DIR, \"sentiment_overall_distribution.svg\"), **FIG_KWARGS)"
   ]
  },
  {
   "cell_type": "code",
   "execution_count": 16,
   "metadata": {},
   "outputs": [
    {
     "name": "stdout",
     "output_type": "stream",
     "text": [
      "16.842105263157894\n",
      "51.05263157894737\n"
     ]
    }
   ],
   "source": [
    "print(100*len(df[df['sentiment']<=3].index)/len(df.index))\n",
    "print(100*len(df[df['sentiment']<=4].index)/len(df.index))"
   ]
  },
  {
   "cell_type": "code",
   "execution_count": 7,
   "metadata": {},
   "outputs": [],
   "source": [
    "# Aggregate responses to questions\n",
    "series = []\n",
    "for i, c in enumerate(columns):\n",
    "    series.append(pd.Series(df[c].value_counts(), name=f\"{c.upper()} ({topics[i]})\"))\n",
    "df_agg = pd.DataFrame(series)*100/len(df.index)"
   ]
  },
  {
   "cell_type": "code",
   "execution_count": 8,
   "metadata": {},
   "outputs": [
    {
     "data": {
      "image/png": "[encoded data removed]",
      "text/plain": [
       "<Figure size 432x288 with 1 Axes>"
      ]
     },
     "metadata": {
      "needs_background": "light"
     },
     "output_type": "display_data"
    }
   ],
   "source": [
    "# Plot response distribution\n",
    "ax = df_agg.plot.barh(stacked=True, color=COLOR_PALLETTE)\n",
    "sns.move_legend(ax, \"upper left\", bbox_to_anchor=(1, 1))\n",
    "\n",
    "#add axis titles\n",
    "plt.xlabel('Percentage of respondents')\n",
    "plt.ylabel('Sentiment')\n",
    "\n",
    "plt.savefig(os.path.join(RESULTS_DIR, \"sentiment_question_distribution.svg\"), **FIG_KWARGS)"
   ]
  },
  {
   "cell_type": "code",
   "execution_count": 9,
   "metadata": {},
   "outputs": [
    {
     "data": {
      "text/html": [
       "<div>\n",
       "<style scoped>\n",
       "    .dataframe tbody tr th:only-of-type {\n",
       "        vertical-align: middle;\n",
       "    }\n",
       "\n",
       "    .dataframe tbody tr th {\n",
       "        vertical-align: top;\n",
       "    }\n",
       "\n",
       "    .dataframe thead tr th {\n",
       "        text-align: left;\n",
       "    }\n",
       "\n",
       "    .dataframe thead tr:last-of-type th {\n",
       "        text-align: right;\n",
       "    }\n",
       "</style>\n",
       "<table border=\"1\" class=\"dataframe\">\n",
       "  <thead>\n",
       "    <tr>\n",
       "      <th></th>\n",
       "      <th>daoName</th>\n",
       "      <th colspan=\"2\" halign=\"left\">q1</th>\n",
       "      <th colspan=\"2\" halign=\"left\">q2</th>\n",
       "      <th colspan=\"2\" halign=\"left\">q3</th>\n",
       "      <th colspan=\"2\" halign=\"left\">q4</th>\n",
       "      <th colspan=\"2\" halign=\"left\">q5</th>\n",
       "    </tr>\n",
       "    <tr>\n",
       "      <th></th>\n",
       "      <th>count</th>\n",
       "      <th>mean</th>\n",
       "      <th>median</th>\n",
       "      <th>mean</th>\n",
       "      <th>median</th>\n",
       "      <th>mean</th>\n",
       "      <th>median</th>\n",
       "      <th>mean</th>\n",
       "      <th>median</th>\n",
       "      <th>mean</th>\n",
       "      <th>median</th>\n",
       "    </tr>\n",
       "    <tr>\n",
       "      <th>daoName</th>\n",
       "      <th></th>\n",
       "      <th></th>\n",
       "      <th></th>\n",
       "      <th></th>\n",
       "      <th></th>\n",
       "      <th></th>\n",
       "      <th></th>\n",
       "      <th></th>\n",
       "      <th></th>\n",
       "      <th></th>\n",
       "      <th></th>\n",
       "    </tr>\n",
       "  </thead>\n",
       "  <tbody>\n",
       "    <tr>\n",
       "      <th>bankless</th>\n",
       "      <td>11</td>\n",
       "      <td>4.00</td>\n",
       "      <td>5.0</td>\n",
       "      <td>4.363636</td>\n",
       "      <td>4.0</td>\n",
       "      <td>4.454545</td>\n",
       "      <td>4.0</td>\n",
       "      <td>4.090909</td>\n",
       "      <td>4.0</td>\n",
       "      <td>4.181818</td>\n",
       "      <td>4.0</td>\n",
       "    </tr>\n",
       "    <tr>\n",
       "      <th>indexcoop</th>\n",
       "      <td>8</td>\n",
       "      <td>3.75</td>\n",
       "      <td>4.0</td>\n",
       "      <td>3.250000</td>\n",
       "      <td>3.5</td>\n",
       "      <td>3.500000</td>\n",
       "      <td>3.5</td>\n",
       "      <td>3.000000</td>\n",
       "      <td>3.0</td>\n",
       "      <td>4.000000</td>\n",
       "      <td>4.0</td>\n",
       "    </tr>\n",
       "    <tr>\n",
       "      <th>open</th>\n",
       "      <td>8</td>\n",
       "      <td>4.00</td>\n",
       "      <td>4.0</td>\n",
       "      <td>4.125000</td>\n",
       "      <td>4.5</td>\n",
       "      <td>4.125000</td>\n",
       "      <td>4.0</td>\n",
       "      <td>3.750000</td>\n",
       "      <td>3.5</td>\n",
       "      <td>4.125000</td>\n",
       "      <td>4.5</td>\n",
       "    </tr>\n",
       "  </tbody>\n",
       "</table>\n",
       "</div>"
      ],
      "text/plain": [
       "          daoName    q1               q2               q3               q4  \\\n",
       "            count  mean median      mean median      mean median      mean   \n",
       "daoName                                                                      \n",
       "bankless       11  4.00    5.0  4.363636    4.0  4.454545    4.0  4.090909   \n",
       "indexcoop       8  3.75    4.0  3.250000    3.5  3.500000    3.5  3.000000   \n",
       "open            8  4.00    4.0  4.125000    4.5  4.125000    4.0  3.750000   \n",
       "\n",
       "                        q5         \n",
       "          median      mean median  \n",
       "daoName                            \n",
       "bankless     4.0  4.181818    4.0  \n",
       "indexcoop    3.0  4.000000    4.0  \n",
       "open         3.5  4.125000    4.5  "
      ]
     },
     "execution_count": 9,
     "metadata": {},
     "output_type": "execute_result"
    }
   ],
   "source": [
    "# Get summary statistics for each dao\n",
    "gb = df.groupby('daoName').agg({'daoName': ['count'],\n",
    "                                  **{c: ['mean', 'median'] for c in columns}})\n",
    "gb[gb['daoName']['count'] > 5]"
   ]
  },
  {
   "cell_type": "code",
   "execution_count": 10,
   "metadata": {},
   "outputs": [],
   "source": [
    "# Get summary statistics for each framework\n",
    "#gb_framework = df.groupby('framework').agg({'daoName': ['count'],\n",
    "#                                  **{c: ['mean', 'std'] for c in columns}})\n",
    "#gb_framework = gb_framework[gb_framework['daoName']['count'] > 1]"
   ]
  },
  {
   "cell_type": "code",
   "execution_count": 11,
   "metadata": {},
   "outputs": [],
   "source": [
    "#for c in gb_framework.columns[1::2]:\n",
    "#    df = gb_framework[c]\n",
    "#    plt.figure(figsize=(16, 6))\n",
    "#    sns.barplot(x=gb_framework.index, y=c, data=gb_framework, ci=None)\n",
    "#    plt.xlabel('Framework', fontsize=18)\n",
    "#    plt.savefig(os.path.join(RESULTS_DIR, f\"survey_vs_framework_{c}.svg\"), dpi=300)"
   ]
  }
 ],
 "metadata": {
  "interpreter": {
   "hash": "779319e8d0c9cb286fc27f8b881cb3134a75a38bfb5645a8c7e51f4bba0a5a60"
  },
  "kernelspec": {
   "display_name": "Python 3.9.7 ('buidl')",
   "language": "python",
   "name": "python3"
  },
  "language_info": {
   "codemirror_mode": {
    "name": "ipython",
    "version": 3
   },
   "file_extension": ".py",
   "mimetype": "text/x-python",
   "name": "python",
   "nbconvert_exporter": "python",
   "pygments_lexer": "ipython3",
   "version": "3.9.7"
  },
  "orig_nbformat": 4
 },
 "nbformat": 4,
 "nbformat_minor": 2
}
