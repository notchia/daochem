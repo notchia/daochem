{
 "cells": [
  {
   "cell_type": "code",
   "execution_count": 1,
   "metadata": {},
   "outputs": [],
   "source": [
    "import os\n",
    "import requests\n",
    "import pandas as pd\n",
    "import seaborn as sns\n",
    "import matplotlib.pyplot as plt"
   ]
  },
  {
   "cell_type": "code",
   "execution_count": 35,
   "metadata": {},
   "outputs": [],
   "source": [
    "from daochem.database.analysis.base import RESULTS_DIR"
   ]
  },
  {
   "cell_type": "code",
   "execution_count": 32,
   "metadata": {},
   "outputs": [],
   "source": [
    "COLOR_PALLETTE = sns.color_palette(\"Spectral\", 6)[::-1]"
   ]
  },
  {
   "cell_type": "code",
   "execution_count": 23,
   "metadata": {},
   "outputs": [
    {
     "data": {
      "text/plain": [
       "190"
      ]
     },
     "execution_count": 23,
     "metadata": {},
     "output_type": "execute_result"
    }
   ],
   "source": [
    "# Load survey data\n",
    "topics = ['decisionmaking agency','decisionmaking trust','mission accomplished','wanted/needed','fulfillment']\n",
    "columns=['q1','q2','q3','q4','q5']\n",
    "questions = ['do you feel a sense of agency in the decision-making process?',\n",
    "             'do you trust the decision-making process?',\n",
    "             'does the DAO effectively accomplish its mission?',\n",
    "             'do you feel wanted and/or needed by the DAO?',\n",
    "             'does contributing to this DAO bring you a sense of fulfillment?']\n",
    "LOCAL_CSV = os.path.join('tmp', 'sentiment.csv')\n",
    "df = pd.read_csv(LOCAL_CSV, index_col=0)\n",
    "df.rename(columns={'dao_name_clean': 'daoName'}, inplace=True)\n",
    "len(df.index)"
   ]
  },
  {
   "cell_type": "code",
   "execution_count": 41,
   "metadata": {},
   "outputs": [
    {
     "data": {
      "text/html": [
       "<div>\n",
       "<style scoped>\n",
       "    .dataframe tbody tr th:only-of-type {\n",
       "        vertical-align: middle;\n",
       "    }\n",
       "\n",
       "    .dataframe tbody tr th {\n",
       "        vertical-align: top;\n",
       "    }\n",
       "\n",
       "    .dataframe thead th {\n",
       "        text-align: right;\n",
       "    }\n",
       "</style>\n",
       "<table border=\"1\" class=\"dataframe\">\n",
       "  <thead>\n",
       "    <tr style=\"text-align: right;\">\n",
       "      <th></th>\n",
       "      <th>5</th>\n",
       "      <th>4</th>\n",
       "      <th>3</th>\n",
       "      <th>2</th>\n",
       "      <th>1</th>\n",
       "    </tr>\n",
       "  </thead>\n",
       "  <tbody>\n",
       "    <tr>\n",
       "      <th>Q1 (decisionmaking agency)</th>\n",
       "      <td>41.052632</td>\n",
       "      <td>27.894737</td>\n",
       "      <td>21.578947</td>\n",
       "      <td>5.789474</td>\n",
       "      <td>3.684211</td>\n",
       "    </tr>\n",
       "    <tr>\n",
       "      <th>Q2 (decisionmaking trust)</th>\n",
       "      <td>38.947368</td>\n",
       "      <td>37.894737</td>\n",
       "      <td>14.736842</td>\n",
       "      <td>5.789474</td>\n",
       "      <td>2.631579</td>\n",
       "    </tr>\n",
       "    <tr>\n",
       "      <th>Q3 (mission accomplished)</th>\n",
       "      <td>38.947368</td>\n",
       "      <td>35.789474</td>\n",
       "      <td>17.894737</td>\n",
       "      <td>6.315789</td>\n",
       "      <td>1.052632</td>\n",
       "    </tr>\n",
       "    <tr>\n",
       "      <th>Q4 (wanted/needed)</th>\n",
       "      <td>38.421053</td>\n",
       "      <td>23.684211</td>\n",
       "      <td>23.157895</td>\n",
       "      <td>10.000000</td>\n",
       "      <td>4.736842</td>\n",
       "    </tr>\n",
       "    <tr>\n",
       "      <th>Q5 (fulfillment)</th>\n",
       "      <td>45.263158</td>\n",
       "      <td>29.473684</td>\n",
       "      <td>21.578947</td>\n",
       "      <td>2.631579</td>\n",
       "      <td>1.052632</td>\n",
       "    </tr>\n",
       "  </tbody>\n",
       "</table>\n",
       "</div>"
      ],
      "text/plain": [
       "                                    5          4          3          2  \\\n",
       "Q1 (decisionmaking agency)  41.052632  27.894737  21.578947   5.789474   \n",
       "Q2 (decisionmaking trust)   38.947368  37.894737  14.736842   5.789474   \n",
       "Q3 (mission accomplished)   38.947368  35.789474  17.894737   6.315789   \n",
       "Q4 (wanted/needed)          38.421053  23.684211  23.157895  10.000000   \n",
       "Q5 (fulfillment)            45.263158  29.473684  21.578947   2.631579   \n",
       "\n",
       "                                   1  \n",
       "Q1 (decisionmaking agency)  3.684211  \n",
       "Q2 (decisionmaking trust)   2.631579  \n",
       "Q3 (mission accomplished)   1.052632  \n",
       "Q4 (wanted/needed)          4.736842  \n",
       "Q5 (fulfillment)            1.052632  "
      ]
     },
     "execution_count": 41,
     "metadata": {},
     "output_type": "execute_result"
    }
   ],
   "source": [
    "# Aggregate responses to questions\n",
    "series = []\n",
    "for i, c in enumerate(columns):\n",
    "    series.append(pd.Series(df[c].value_counts(), name=f\"{c.upper()} ({topics[i]})\"))\n",
    "df_agg = pd.DataFrame(series)*100/len(df.index)\n",
    "df_agg.head()"
   ]
  },
  {
   "cell_type": "code",
   "execution_count": 53,
   "metadata": {},
   "outputs": [
    {
     "ename": "NameError",
     "evalue": "name 'RESULTS_DIR' is not defined",
     "output_type": "error",
     "traceback": [
      "\u001b[0;31m---------------------------------------------------------------------------\u001b[0m",
      "\u001b[0;31mNameError\u001b[0m                                 Traceback (most recent call last)",
      "\u001b[1;32m/home/notchia/Repositories/daochem/daochem/database/analysis/sentiment.ipynb Cell 6'\u001b[0m in \u001b[0;36m<cell line: 9>\u001b[0;34m()\u001b[0m\n\u001b[1;32m      <a href='vscode-notebook-cell:/home/notchia/Repositories/daochem/daochem/database/analysis/sentiment.ipynb#ch0000017?line=5'>6</a>\u001b[0m plt\u001b[39m.\u001b[39mxlabel(\u001b[39m'\u001b[39m\u001b[39mPercentage of respondents\u001b[39m\u001b[39m'\u001b[39m)\n\u001b[1;32m      <a href='vscode-notebook-cell:/home/notchia/Repositories/daochem/daochem/database/analysis/sentiment.ipynb#ch0000017?line=6'>7</a>\u001b[0m plt\u001b[39m.\u001b[39mylabel(\u001b[39m'\u001b[39m\u001b[39mSentiment\u001b[39m\u001b[39m'\u001b[39m)\n\u001b[0;32m----> <a href='vscode-notebook-cell:/home/notchia/Repositories/daochem/daochem/database/analysis/sentiment.ipynb#ch0000017?line=8'>9</a>\u001b[0m plt\u001b[39m.\u001b[39msavefig(os\u001b[39m.\u001b[39mpath\u001b[39m.\u001b[39mjoin(RESULTS_DIR, \u001b[39m\"\u001b[39m\u001b[39msentiment_distribution.svg\u001b[39m\u001b[39m\"\u001b[39m), dpi\u001b[39m=\u001b[39m\u001b[39m300\u001b[39m)\n",
      "\u001b[0;31mNameError\u001b[0m: name 'RESULTS_DIR' is not defined"
     ]
    },
    {
     "data": {
      "image/png": "[encoded data removed]",
      "text/plain": [
       "<Figure size 432x288 with 1 Axes>"
      ]
     },
     "metadata": {
      "needs_background": "light"
     },
     "output_type": "display_data"
    }
   ],
   "source": [
    "# Plot response distribution\n",
    "ax = df_agg.plot.barh(stacked=True, color=COLOR_PALLETTE)\n",
    "sns.move_legend(ax, \"upper left\", bbox_to_anchor=(1, 1))\n",
    "\n",
    "#add axis titles\n",
    "plt.xlabel('Percentage of respondents')\n",
    "plt.ylabel('Sentiment')\n",
    "\n",
    "plt.savefig(os.path.join(RESULTS_DIR, \"sentiment_distribution.svg\"), dpi=300)"
   ]
  },
  {
   "cell_type": "code",
   "execution_count": 52,
   "metadata": {},
   "outputs": [
    {
     "data": {
      "text/html": [
       "<div>\n",
       "<style scoped>\n",
       "    .dataframe tbody tr th:only-of-type {\n",
       "        vertical-align: middle;\n",
       "    }\n",
       "\n",
       "    .dataframe tbody tr th {\n",
       "        vertical-align: top;\n",
       "    }\n",
       "\n",
       "    .dataframe thead tr th {\n",
       "        text-align: left;\n",
       "    }\n",
       "\n",
       "    .dataframe thead tr:last-of-type th {\n",
       "        text-align: right;\n",
       "    }\n",
       "</style>\n",
       "<table border=\"1\" class=\"dataframe\">\n",
       "  <thead>\n",
       "    <tr>\n",
       "      <th></th>\n",
       "      <th>daoName</th>\n",
       "      <th colspan=\"2\" halign=\"left\">q1</th>\n",
       "      <th colspan=\"2\" halign=\"left\">q2</th>\n",
       "      <th colspan=\"2\" halign=\"left\">q3</th>\n",
       "      <th colspan=\"2\" halign=\"left\">q4</th>\n",
       "      <th colspan=\"2\" halign=\"left\">q5</th>\n",
       "    </tr>\n",
       "    <tr>\n",
       "      <th></th>\n",
       "      <th>count</th>\n",
       "      <th>mean</th>\n",
       "      <th>median</th>\n",
       "      <th>mean</th>\n",
       "      <th>median</th>\n",
       "      <th>mean</th>\n",
       "      <th>median</th>\n",
       "      <th>mean</th>\n",
       "      <th>median</th>\n",
       "      <th>mean</th>\n",
       "      <th>median</th>\n",
       "    </tr>\n",
       "    <tr>\n",
       "      <th>daoName</th>\n",
       "      <th></th>\n",
       "      <th></th>\n",
       "      <th></th>\n",
       "      <th></th>\n",
       "      <th></th>\n",
       "      <th></th>\n",
       "      <th></th>\n",
       "      <th></th>\n",
       "      <th></th>\n",
       "      <th></th>\n",
       "      <th></th>\n",
       "    </tr>\n",
       "  </thead>\n",
       "  <tbody>\n",
       "    <tr>\n",
       "      <th>bankless</th>\n",
       "      <td>11</td>\n",
       "      <td>4.00</td>\n",
       "      <td>5.0</td>\n",
       "      <td>4.363636</td>\n",
       "      <td>4.0</td>\n",
       "      <td>4.454545</td>\n",
       "      <td>4.0</td>\n",
       "      <td>4.090909</td>\n",
       "      <td>4.0</td>\n",
       "      <td>4.181818</td>\n",
       "      <td>4.0</td>\n",
       "    </tr>\n",
       "    <tr>\n",
       "      <th>indexcoop</th>\n",
       "      <td>8</td>\n",
       "      <td>3.75</td>\n",
       "      <td>4.0</td>\n",
       "      <td>3.250000</td>\n",
       "      <td>3.5</td>\n",
       "      <td>3.500000</td>\n",
       "      <td>3.5</td>\n",
       "      <td>3.000000</td>\n",
       "      <td>3.0</td>\n",
       "      <td>4.000000</td>\n",
       "      <td>4.0</td>\n",
       "    </tr>\n",
       "    <tr>\n",
       "      <th>open</th>\n",
       "      <td>8</td>\n",
       "      <td>4.00</td>\n",
       "      <td>4.0</td>\n",
       "      <td>4.125000</td>\n",
       "      <td>4.5</td>\n",
       "      <td>4.125000</td>\n",
       "      <td>4.0</td>\n",
       "      <td>3.750000</td>\n",
       "      <td>3.5</td>\n",
       "      <td>4.125000</td>\n",
       "      <td>4.5</td>\n",
       "    </tr>\n",
       "  </tbody>\n",
       "</table>\n",
       "</div>"
      ],
      "text/plain": [
       "          daoName    q1               q2               q3               q4  \\\n",
       "            count  mean median      mean median      mean median      mean   \n",
       "daoName                                                                      \n",
       "bankless       11  4.00    5.0  4.363636    4.0  4.454545    4.0  4.090909   \n",
       "indexcoop       8  3.75    4.0  3.250000    3.5  3.500000    3.5  3.000000   \n",
       "open            8  4.00    4.0  4.125000    4.5  4.125000    4.0  3.750000   \n",
       "\n",
       "                        q5         \n",
       "          median      mean median  \n",
       "daoName                            \n",
       "bankless     4.0  4.181818    4.0  \n",
       "indexcoop    3.0  4.000000    4.0  \n",
       "open         3.5  4.125000    4.5  "
      ]
     },
     "execution_count": 52,
     "metadata": {},
     "output_type": "execute_result"
    }
   ],
   "source": [
    "# Get summary statistics for each dao\n",
    "gb = df.groupby('daoName').agg({'daoName': ['count'],\n",
    "                                  **{c: ['mean', 'median'] for c in columns}})\n",
    "gb[gb['daoName']['count'] > 5]"
   ]
  },
  {
   "cell_type": "code",
   "execution_count": null,
   "metadata": {},
   "outputs": [],
   "source": [
    "# Get summary statistics for each framework\n",
    "gb_framework = df.groupby('framework').agg({'daoName': ['count'],\n",
    "                                  **{c: ['mean', 'std'] for c in columns}})\n",
    "gb_framework = gb_framework[gb_framework['daoName']['count'] > 1]"
   ]
  },
  {
   "cell_type": "code",
   "execution_count": null,
   "metadata": {},
   "outputs": [],
   "source": [
    "for c in gb_framework.columns[1::2]:\n",
    "    df = gb_framework[c]\n",
    "    plt.figure(figsize=(16, 6))\n",
    "    sns.barplot(x=gb_framework.index, y=c, data=gb_framework, ci=None)\n",
    "    plt.xlabel('Framework', fontsize=18)\n",
    "    plt.savefig(os.path.join(RESULTS_DIR, f\"survey_vs_framework_{c}.svg\"), dpi=300)"
   ]
  },
  {
   "cell_type": "code",
   "execution_count": null,
   "metadata": {},
   "outputs": [],
   "source": [
    "gb_category = df.groupby('category').agg({'daoName': ['count'],\n",
    "                                  **{c: ['mean'] for c in columns}})\n",
    "gb_category = gb_category[gb_category['daoName']['count'] > 1]\n",
    "gb_category"
   ]
  },
  {
   "cell_type": "code",
   "execution_count": null,
   "metadata": {},
   "outputs": [],
   "source": [
    "for c in gb_category.columns[1::2]:\n",
    "    df = gb_category[c]\n",
    "    plt.figure(figsize=(16, 6))\n",
    "    sns.barplot(x=gb_category.index, y=c, data=gb_category, ci=None)\n",
    "    plt.xlabel('Category', fontsize=18)\n",
    "    plt.savefig(os.path.join(RESULTS_DIR, \"survey_vs_category.svg\"), dpi=300)"
   ]
  }
 ],
 "metadata": {
  "interpreter": {
   "hash": "779319e8d0c9cb286fc27f8b881cb3134a75a38bfb5645a8c7e51f4bba0a5a60"
  },
  "kernelspec": {
   "display_name": "Python 3.9.7 ('buidl')",
   "language": "python",
   "name": "python3"
  },
  "language_info": {
   "codemirror_mode": {
    "name": "ipython",
    "version": 3
   },
   "file_extension": ".py",
   "mimetype": "text/x-python",
   "name": "python",
   "nbconvert_exporter": "python",
   "pygments_lexer": "ipython3",
   "version": "3.9.7"
  },
  "orig_nbformat": 4
 },
 "nbformat": 4,
 "nbformat_minor": 2
}
